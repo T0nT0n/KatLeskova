{
  "nbformat": 4,
  "nbformat_minor": 0,
  "metadata": {
    "colab": {
      "name": "Untitled0.ipynb",
      "provenance": [],
      "authorship_tag": "ABX9TyPsxvL3WZ0MPWD1jdOTLa5d",
      "include_colab_link": true
    },
    "kernelspec": {
      "name": "python3",
      "display_name": "Python 3"
    }
  },
  "cells": [
    {
      "cell_type": "markdown",
      "metadata": {
        "id": "view-in-github",
        "colab_type": "text"
      },
      "source": [
        "<a href=\"https://colab.research.google.com/github/T0nT0n/KatLeskova/blob/master/Untitled0.ipynb\" target=\"_parent\"><img src=\"https://colab.research.google.com/assets/colab-badge.svg\" alt=\"Open In Colab\"/></a>"
      ]
    },
    {
      "cell_type": "code",
      "metadata": {
        "colab": {
          "base_uri": "https://localhost:8080/"
        },
        "id": "Z73J2ecpe2UM",
        "outputId": "3f42eda1-c4da-439f-afe1-068300510971"
      },
      "source": [
        "print('Привет, мир!')"
      ],
      "execution_count": 2,
      "outputs": [
        {
          "output_type": "stream",
          "text": [
            "Привет, мир!\n"
          ],
          "name": "stdout"
        }
      ]
    },
    {
      "cell_type": "markdown",
      "metadata": {
        "id": "Gti6-ddRfMA0"
      },
      "source": [
        "Лескова Екатерина Игоревна Ки19-21б\r\n"
      ]
    },
    {
      "cell_type": "markdown",
      "metadata": {
        "id": "ZFyoWgBOfKdc"
      },
      "source": [
        ""
      ]
    }
  ]
}